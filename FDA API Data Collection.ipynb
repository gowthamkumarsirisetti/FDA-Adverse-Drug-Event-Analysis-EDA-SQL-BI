{
 "cells": [
  {
   "cell_type": "markdown",
   "id": "58130199-0710-4720-9b18-c2de4e5e9d20",
   "metadata": {},
   "source": [
    "# **Extracting Data From API**"
   ]
  },
  {
   "cell_type": "code",
   "execution_count": 40,
   "id": "dffa4709-ef12-43d6-9d1a-c1ba29e544e4",
   "metadata": {},
   "outputs": [],
   "source": [
    "import requests\n",
    "import pandas as pd\n",
    "import json\n",
    "# Example: Get 1000 recent drug events\n",
    "url = \"https://api.fda.gov/drug/event.json?limit=1000\"\n",
    "\n",
    "response = requests.get(url)\n",
    "data = response.json()\n",
    "results = data[\"results\"]\n",
    "\n",
    "# Normalize JSON into a DataFrame\n",
    "df = pd.json_normalize(results)"
   ]
  },
  {
   "cell_type": "markdown",
   "id": "860e508d-0255-4193-b675-40d19382c1dc",
   "metadata": {},
   "source": [
    "# **Creating DataFrame from the JSON Data**"
   ]
  },
  {
   "cell_type": "code",
   "execution_count": 42,
   "id": "ae962b80-8e99-4758-9e45-1a6b6924434f",
   "metadata": {},
   "outputs": [
    {
     "data": {
      "text/html": [
       "<div>\n",
       "<style scoped>\n",
       "    .dataframe tbody tr th:only-of-type {\n",
       "        vertical-align: middle;\n",
       "    }\n",
       "\n",
       "    .dataframe tbody tr th {\n",
       "        vertical-align: top;\n",
       "    }\n",
       "\n",
       "    .dataframe thead th {\n",
       "        text-align: right;\n",
       "    }\n",
       "</style>\n",
       "<table border=\"1\" class=\"dataframe\">\n",
       "  <thead>\n",
       "    <tr style=\"text-align: right;\">\n",
       "      <th></th>\n",
       "      <th>report_id</th>\n",
       "      <th>receivedate</th>\n",
       "      <th>patient_age</th>\n",
       "      <th>patient_sex</th>\n",
       "      <th>drug_name</th>\n",
       "      <th>reaction</th>\n",
       "      <th>outcome</th>\n",
       "    </tr>\n",
       "  </thead>\n",
       "  <tbody>\n",
       "    <tr>\n",
       "      <th>0</th>\n",
       "      <td>5801206-7</td>\n",
       "      <td>2008-07-07</td>\n",
       "      <td>26.0</td>\n",
       "      <td>Male</td>\n",
       "      <td>DURAGESIC-100</td>\n",
       "      <td>DRUG ADMINISTRATION ERROR</td>\n",
       "      <td>1</td>\n",
       "    </tr>\n",
       "    <tr>\n",
       "      <th>1</th>\n",
       "      <td>10003300</td>\n",
       "      <td>2014-03-06</td>\n",
       "      <td>77.0</td>\n",
       "      <td>Female</td>\n",
       "      <td>BONIVA</td>\n",
       "      <td>Vomiting</td>\n",
       "      <td>NaN</td>\n",
       "    </tr>\n",
       "    <tr>\n",
       "      <th>2</th>\n",
       "      <td>10003301</td>\n",
       "      <td>2014-02-28</td>\n",
       "      <td>NaN</td>\n",
       "      <td>Female</td>\n",
       "      <td>IBUPROFEN</td>\n",
       "      <td>Dyspepsia</td>\n",
       "      <td>NaN</td>\n",
       "    </tr>\n",
       "    <tr>\n",
       "      <th>3</th>\n",
       "      <td>10003302</td>\n",
       "      <td>2014-03-12</td>\n",
       "      <td>NaN</td>\n",
       "      <td>Male</td>\n",
       "      <td>LYRICA</td>\n",
       "      <td>Drug ineffective</td>\n",
       "      <td>NaN</td>\n",
       "    </tr>\n",
       "    <tr>\n",
       "      <th>4</th>\n",
       "      <td>10003304</td>\n",
       "      <td>2014-03-12</td>\n",
       "      <td>NaN</td>\n",
       "      <td>Female</td>\n",
       "      <td>DOXYCYCLINE HYCLATE</td>\n",
       "      <td>Drug hypersensitivity</td>\n",
       "      <td>NaN</td>\n",
       "    </tr>\n",
       "  </tbody>\n",
       "</table>\n",
       "</div>"
      ],
      "text/plain": [
       "   report_id receivedate  patient_age patient_sex            drug_name  \\\n",
       "0  5801206-7  2008-07-07         26.0        Male        DURAGESIC-100   \n",
       "1   10003300  2014-03-06         77.0      Female               BONIVA   \n",
       "2   10003301  2014-02-28          NaN      Female            IBUPROFEN   \n",
       "3   10003302  2014-03-12          NaN        Male               LYRICA   \n",
       "4   10003304  2014-03-12          NaN      Female  DOXYCYCLINE HYCLATE   \n",
       "\n",
       "                    reaction outcome  \n",
       "0  DRUG ADMINISTRATION ERROR       1  \n",
       "1                   Vomiting     NaN  \n",
       "2                  Dyspepsia     NaN  \n",
       "3           Drug ineffective     NaN  \n",
       "4      Drug hypersensitivity     NaN  "
      ]
     },
     "execution_count": 42,
     "metadata": {},
     "output_type": "execute_result"
    }
   ],
   "source": [
    "# Step 3: Extract nested fields safely\n",
    "def extract_drug_name(drugs):\n",
    "    if isinstance(drugs, list) and drugs:\n",
    "        return drugs[0].get(\"medicinalproduct\")\n",
    "    return None\n",
    "\n",
    "def extract_reaction(reactions):\n",
    "    if isinstance(reactions, list) and reactions:\n",
    "        return reactions[0].get(\"reactionmeddrapt\")\n",
    "    return None\n",
    "\n",
    "# Step 4: Create cleaned columns\n",
    "df['drug_name'] = df['patient.drug'].apply(extract_drug_name)\n",
    "df['reaction'] = df['patient.reaction'].apply(extract_reaction)\n",
    "\n",
    "# Map patientsex codes to labels\n",
    "sex_map = {\n",
    "    \"1\": \"Male\",\n",
    "    \"2\": \"Female\",\n",
    "    \"0\": \"Unknown\",\n",
    "    \"null\": None\n",
    "}\n",
    "df['patient_sex'] = df['patient.patientsex'].astype(str).map(sex_map)\n",
    "\n",
    "# Clean and format date\n",
    "df['receivedate'] = pd.to_datetime(df['receivedate'], format='%Y%m%d', errors='coerce')\n",
    "\n",
    "# Convert age to numeric\n",
    "df['patient_age'] = pd.to_numeric(df['patient.patientonsetage'], errors='coerce')\n",
    "\n",
    "# Step 5: Final cleaned dataframe\n",
    "cleaned_df = df[[\n",
    "    'safetyreportid',\n",
    "    'receivedate',\n",
    "    'patient_age',\n",
    "    'patient_sex',\n",
    "    'drug_name',\n",
    "    'reaction',\n",
    "    'seriousnessdeath'\n",
    "]].copy()\n",
    "\n",
    "cleaned_df.rename(columns={\n",
    "    'safetyreportid': 'report_id',\n",
    "    'seriousnessdeath': 'outcome'\n",
    "}, inplace=True)\n",
    "\n",
    "# Preview the cleaned data\n",
    "cleaned_df.head()"
   ]
  },
  {
   "cell_type": "markdown",
   "id": "686cda23-8fbf-439a-b5cf-34201b9ac2a0",
   "metadata": {},
   "source": [
    "# **Cleaning & Transformation of Data**"
   ]
  },
  {
   "cell_type": "code",
   "execution_count": 44,
   "id": "c2057941-fea6-478e-8c01-955290b5a93a",
   "metadata": {},
   "outputs": [
    {
     "data": {
      "text/plain": [
       "report_id        0\n",
       "receivedate      0\n",
       "patient_age    341\n",
       "patient_sex      4\n",
       "drug_name        0\n",
       "reaction         0\n",
       "outcome        913\n",
       "dtype: int64"
      ]
     },
     "execution_count": 44,
     "metadata": {},
     "output_type": "execute_result"
    }
   ],
   "source": [
    "cleaned_df.isna().sum()"
   ]
  },
  {
   "cell_type": "code",
   "execution_count": 46,
   "id": "2406a923-c8a3-476b-9bb3-e2e07adc4117",
   "metadata": {},
   "outputs": [
    {
     "name": "stdout",
     "output_type": "stream",
     "text": [
      "<class 'pandas.core.frame.DataFrame'>\n",
      "RangeIndex: 1000 entries, 0 to 999\n",
      "Data columns (total 7 columns):\n",
      " #   Column       Non-Null Count  Dtype         \n",
      "---  ------       --------------  -----         \n",
      " 0   report_id    1000 non-null   object        \n",
      " 1   receivedate  1000 non-null   datetime64[ns]\n",
      " 2   patient_age  659 non-null    float64       \n",
      " 3   patient_sex  996 non-null    object        \n",
      " 4   drug_name    1000 non-null   object        \n",
      " 5   reaction     1000 non-null   object        \n",
      " 6   outcome      87 non-null     object        \n",
      "dtypes: datetime64[ns](1), float64(1), object(5)\n",
      "memory usage: 54.8+ KB\n"
     ]
    }
   ],
   "source": [
    "cleaned_df.info()"
   ]
  },
  {
   "cell_type": "code",
   "execution_count": 48,
   "id": "c792fc98-3502-4a61-99ce-75f365e8a3a2",
   "metadata": {},
   "outputs": [],
   "source": [
    "import pandas as pd\n",
    "\n",
    "# Convert 'patient_age' to int (after filling missing with -1)\n",
    "cleaned_df['patient_age'] = cleaned_df['patient_age'].fillna(-1).astype(int)\n",
    "\n",
    "# Handle 'outcome': convert missing to 0 (means not a death report)\n",
    "cleaned_df['outcome'] = cleaned_df['outcome'].fillna(0).astype(int)\n",
    "\n",
    "# If needed, ensure all string columns are actually strings\n",
    "cleaned_df['report_id'] = cleaned_df['report_id'].astype(str)\n",
    "cleaned_df['patient_sex'] = cleaned_df['patient_sex'].fillna(\"Unknown\").astype(str)\n",
    "cleaned_df['drug_name'] = cleaned_df['drug_name'].astype(str)\n",
    "cleaned_df['reaction'] = cleaned_df['reaction'].astype(str)"
   ]
  },
  {
   "cell_type": "code",
   "execution_count": 50,
   "id": "ec841227-29a9-4a9d-bc05-24448da3d706",
   "metadata": {},
   "outputs": [
    {
     "name": "stdout",
     "output_type": "stream",
     "text": [
      "<class 'pandas.core.frame.DataFrame'>\n",
      "RangeIndex: 1000 entries, 0 to 999\n",
      "Data columns (total 7 columns):\n",
      " #   Column       Non-Null Count  Dtype         \n",
      "---  ------       --------------  -----         \n",
      " 0   report_id    1000 non-null   object        \n",
      " 1   receivedate  1000 non-null   datetime64[ns]\n",
      " 2   patient_age  1000 non-null   int32         \n",
      " 3   patient_sex  1000 non-null   object        \n",
      " 4   drug_name    1000 non-null   object        \n",
      " 5   reaction     1000 non-null   object        \n",
      " 6   outcome      1000 non-null   int32         \n",
      "dtypes: datetime64[ns](1), int32(2), object(4)\n",
      "memory usage: 47.0+ KB\n"
     ]
    }
   ],
   "source": [
    "cleaned_df.info()"
   ]
  },
  {
   "cell_type": "code",
   "execution_count": 52,
   "id": "932de544-7e02-48e8-9988-7577202568c1",
   "metadata": {},
   "outputs": [
    {
     "data": {
      "text/plain": [
       "report_id      0\n",
       "receivedate    0\n",
       "patient_age    0\n",
       "patient_sex    0\n",
       "drug_name      0\n",
       "reaction       0\n",
       "outcome        0\n",
       "dtype: int64"
      ]
     },
     "execution_count": 52,
     "metadata": {},
     "output_type": "execute_result"
    }
   ],
   "source": [
    "cleaned_df.isna().sum()"
   ]
  },
  {
   "cell_type": "code",
   "execution_count": 54,
   "id": "2c90cb61-1da0-490c-9257-28e90ec09aa7",
   "metadata": {},
   "outputs": [
    {
     "data": {
      "text/plain": [
       "0"
      ]
     },
     "execution_count": 54,
     "metadata": {},
     "output_type": "execute_result"
    }
   ],
   "source": [
    "cleaned_df.duplicated().sum()"
   ]
  },
  {
   "cell_type": "code",
   "execution_count": 56,
   "id": "c9c82c7d-7540-4a90-b38f-88a4e5579198",
   "metadata": {},
   "outputs": [
    {
     "data": {
      "text/plain": [
       "array([26, 77, -1, 48, 68, 65, 59, 42, 66, 76, 43, 81, 82, 73, 46, 71, 61,\n",
       "       57, 29, 53, 55, 79, 50, 38, 80, 62, 34, 69, 22, 54, 64, 88, 93, 51,\n",
       "       52, 60, 10, 41, 31, 32, 70, 78, 49, 67, 63, 75, 72, 19, 44, 25, 56,\n",
       "       18, 86, 47, 45, 30, 74, 36, 28, 37, 84, 35, 33, 40, 39, 58,  4, 83,\n",
       "       24, 11, 16,  3,  9,  2, 92,  7, 23, 90,  8, 87, 85, 17, 21, 91, 89,\n",
       "       14, 20, 27, 15,  6,  5, 13, 12])"
      ]
     },
     "execution_count": 56,
     "metadata": {},
     "output_type": "execute_result"
    }
   ],
   "source": [
    "cleaned_df.patient_age.unique()"
   ]
  },
  {
   "cell_type": "markdown",
   "id": "7745e80c-b8d9-40a5-b291-de7feb4f9806",
   "metadata": {},
   "source": [
    "---\n",
    "## Column Descriptions – FDA Adverse Drug Event Dataset\n",
    "\n",
    "The following are the columns used in the cleaned dataset after extracting and transforming JSON data from the FDA Drug Event API:\n",
    "\n",
    "| Column Name   | Description |\n",
    "|---------------|-------------|\n",
    "| `report_id`   | Unique identifier for the adverse event report |\n",
    "| `receivedate` | Date when the report was received by the FDA (in YYYY-MM-DD format) |\n",
    "| `patient_age` | Age of the patient at the time of the event. If unknown, filled with -1 |\n",
    "| `patient_sex` | Gender of the patient (Male / Female / Unknown) |\n",
    "| `drug_name`   | Name of the drug suspected to have caused the adverse reaction |\n",
    "| `reaction`    | Medical term describing the adverse effect reported (e.g., nausea, rash, etc.) |\n",
    "| `outcome`     | Indicates whether death was reported (1 = death, 0 = no death reported or unknown) |\n",
    "\n",
    "**Note on Missing Values:**\n",
    "- `patient_age`: Missing values were filled with `-1` to indicate unknown age.\n",
    "- `outcome`: Originally had nulls; filled with `0` to mean no death reported.\n",
    "- `patient_sex`: Filled missing values with `\"Unknown\"` string.\n",
    "\n",
    "This cleaned structure ensures the dataset is ready for SQL-based analysis, aggregation, and reporting.\n"
   ]
  },
  {
   "cell_type": "code",
   "execution_count": 62,
   "id": "73aa2b4d-94d6-447b-a718-bbc024995f52",
   "metadata": {},
   "outputs": [],
   "source": [
    "cleaned_df.to_csv(\"cleaned_fda_drug_events.csv\", index=False)"
   ]
  },
  {
   "cell_type": "markdown",
   "id": "86d0d17d-85dd-4618-ba00-6da9d4e42ebb",
   "metadata": {},
   "source": [
    "---\n",
    "# **Connecting to MySQL**"
   ]
  },
  {
   "cell_type": "code",
   "execution_count": 66,
   "id": "bd299568-4d96-4e7d-bc96-33e400538b5a",
   "metadata": {},
   "outputs": [
    {
     "name": "stdout",
     "output_type": "stream",
     "text": [
      "✅ Data inserted successfully into MySQL!\n"
     ]
    }
   ],
   "source": [
    "import mysql.connector\n",
    "from sqlalchemy import create_engine\n",
    "\n",
    "# ✅ Replace with your MySQL credentials\n",
    "user = \"root\"\n",
    "password = \"6541\"\n",
    "host = \"127.0.0.1\"\n",
    "database = \"fda_drug_analysis\"\n",
    "\n",
    "# ✅ Use SQLAlchemy to bulk insert the cleaned DataFrame\n",
    "engine = create_engine(f\"mysql+mysqlconnector://{user}:{password}@{host}/{database}\")\n",
    "\n",
    "# ✅ Assuming your DataFrame is called cleaned_df\n",
    "cleaned_df.to_sql(name='drug_events', con=engine, if_exists='replace', index=False)\n",
    "\n",
    "print(\"✅ Data inserted successfully into MySQL!\")"
   ]
  },
  {
   "cell_type": "markdown",
   "id": "e1bddc8b-890c-4e3b-88af-9239bb18e93c",
   "metadata": {},
   "source": [
    "<hr style=\"border: 2px solid orange;\">\n",
    "<hr style=\"border: 3px dashed #00aaff;\">"
   ]
  },
  {
   "cell_type": "code",
   "execution_count": null,
   "id": "8e9a1c03-e82e-4593-af8b-1807a1810c2c",
   "metadata": {},
   "outputs": [],
   "source": []
  }
 ],
 "metadata": {
  "kernelspec": {
   "display_name": "Python [conda env:base] *",
   "language": "python",
   "name": "conda-base-py"
  },
  "language_info": {
   "codemirror_mode": {
    "name": "ipython",
    "version": 3
   },
   "file_extension": ".py",
   "mimetype": "text/x-python",
   "name": "python",
   "nbconvert_exporter": "python",
   "pygments_lexer": "ipython3",
   "version": "3.12.7"
  }
 },
 "nbformat": 4,
 "nbformat_minor": 5
}
